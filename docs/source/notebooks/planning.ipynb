{
 "cells": [
  {
   "metadata": {},
   "cell_type": "markdown",
   "source": [
    "# Signal Acquisition Planning\n",
    "\n",
    "This notebook demonstrates the planning of signal capture and spectral analysis parameters. \n",
    "\n",
    "The configuration includes:\n",
    "- Desired Resolution Bandwidth (RBW): 1 kHz\n",
    "- Sampling Rate (fs): 20 MHz\n",
    "- Bandwidth: 20 MHz\n",
    "- Window Type: Hamming\n",
    "- Overlap: 50%\n",
    "- K (averaging factor): 1\n",
    "- Size planning method: next_5smooth\n",
    "\n",
    "The notebook uses `plan_capture_parameters()` and `plan_welch_parameters()` functions to calculate optimal FFT size and other parameters based on these requirements.\n"
   ],
   "id": "de5922d6b2c1a5e0"
  },
  {
   "cell_type": "code",
   "id": "initial_id",
   "metadata": {
    "collapsed": true,
    "ExecuteTime": {
     "end_time": "2025-10-20T21:55:30.685235Z",
     "start_time": "2025-10-20T21:55:30.617888Z"
    }
   },
   "source": [
    "from rfscope.common.utils import plan_capture_parameters\n",
    "from rfscope.dsp.spectral import plan_welch_parameters"
   ],
   "outputs": [],
   "execution_count": 1
  },
  {
   "metadata": {
    "ExecuteTime": {
     "end_time": "2025-10-20T21:57:33.286920Z",
     "start_time": "2025-10-20T21:57:33.282997Z"
    }
   },
   "cell_type": "code",
   "source": [
    "plan = {\n",
    "    'rbw_hz': 1e3,\n",
    "    'fs_hz': 20e6,\n",
    "    'bw_hz': 20e6,\n",
    "    'window': 'hamming',\n",
    "    'overlap': 0.5,\n",
    "    'K': 1,\n",
    "    'size_planner': 'next_5smooth'\n",
    "}"
   ],
   "id": "90b1383d87de221b",
   "outputs": [],
   "execution_count": 2
  },
  {
   "metadata": {},
   "cell_type": "markdown",
   "source": [
    "## Plan Capture Parameters\n",
    "\n",
    "The `plan_capture_parameters()` function calculates optimal signal acquisition parameters based on the desired specifications. It takes the following inputs:\n",
    "\n",
    "- rbw_hz: Desired Resolution Bandwidth in Hz (target frequency resolution)\n",
    "- fs_hz: Sampling rate in Hz  \n",
    "- bw_hz: Bandwidth in Hz\n",
    "- window: Window function type (e.g. hamming)\n",
    "- overlap: Overlap ratio between segments (0 to 1)\n",
    "- K: Averaging factor\n",
    "- size_planner: Method for determining FFT size (e.g. next_5smooth)\n",
    "\n",
    "The function determines parameters like:\n",
    "- Number of samples needed\n",
    "- Actual achieved RBW\n",
    "- Total capture time\n",
    "- Optimal FFT size\n",
    "\n",
    "This ensures efficient signal capture while meeting the specified frequency resolution requirements.\n"
   ],
   "id": "f22845f16bde9be9"
  },
  {
   "metadata": {
    "ExecuteTime": {
     "end_time": "2025-10-20T21:57:36.320230Z",
     "start_time": "2025-10-20T21:57:36.316196Z"
    }
   },
   "cell_type": "code",
   "source": "plan_capture_parameters(**plan)",
   "id": "d03f1d1a366b4482",
   "outputs": [
    {
     "data": {
      "text/plain": [
       "{'sample_rate': 20000000.0,\n",
       " 'samples': 27648,\n",
       " 'rbw_eff': 983.7962962962964,\n",
       " 'time': 0.0013824}"
      ]
     },
     "execution_count": 3,
     "metadata": {},
     "output_type": "execute_result"
    }
   ],
   "execution_count": 3
  },
  {
   "metadata": {},
   "cell_type": "markdown",
   "source": [
    "The acquisition plan parameters show:\n",
    "\n",
    "- **Sample Rate**: 20 MHz (20,000,000 samples per second)\n",
    "- **Number of Samples**: 27,648 samples per capture\n",
    "- **Effective Resolution Bandwidth**: ~984 Hz (actual achieved RBW)\n",
    "- **Capture Time**: 1.3824 milliseconds (total time to collect samples)\n",
    "\n",
    "This plan achieves close to the desired 1 kHz RBW target while optimizing the FFT size for computational efficiency.\n"
   ],
   "id": "c7692213d22f110"
  },
  {
   "metadata": {},
   "cell_type": "markdown",
   "source": [
    "## Plan Welch Parameters\n",
    "\n",
    "The `plan_welch_parameters()` function determines the optimal parameters for Welch's method of power spectral density estimation. It takes the same input parameters as `plan_capture_parameters()`:\n",
    "\n",
    "- rbw_hz: Desired Resolution Bandwidth in Hz\n",
    "- fs_hz: Sampling rate in Hz\n",
    "- bw_hz: Bandwidth in Hz  \n",
    "- window: Window function type\n",
    "- overlap: Overlap ratio between segments\n",
    "- K: Averaging factor\n",
    "- size_planner: FFT size planning method\n",
    "\n",
    "The function calculates the optimal parameters for spectral analysis including:\n",
    "- NFFT: FFT size\n",
    "- Segment size\n",
    "- Number of segments\n",
    "- Amount of overlap between segments\n",
    "- Resulting frequency resolution\n",
    "\n",
    "This ensures accurate spectral density estimation while meeting the specified resolution requirements.\n"
   ],
   "id": "5a29e8ff3e7a901a"
  },
  {
   "metadata": {
    "ExecuteTime": {
     "end_time": "2025-10-20T21:58:07.083706Z",
     "start_time": "2025-10-20T21:58:07.078278Z"
    }
   },
   "cell_type": "code",
   "source": "plan_welch_parameters(**plan)",
   "id": "eced694dd7ff82fd",
   "outputs": [
    {
     "data": {
      "text/plain": [
       "{'window': 'hamming',\n",
       " 'nperseg': 27648,\n",
       " 'noverlap': 13824,\n",
       " 'nfft': 27648,\n",
       " 'scaling': 'density',\n",
       " 'average': 'mean'}"
      ]
     },
     "execution_count": 4,
     "metadata": {},
     "output_type": "execute_result"
    }
   ],
   "execution_count": 4
  },
  {
   "metadata": {},
   "cell_type": "markdown",
   "source": [
    "These Welch's method parameters define how the spectral analysis will be performed:\n",
    "\n",
    "- **window**: Hamming window is used to reduce spectral leakage\n",
    "- **nperseg**: 27,648 samples per segment - the length of each segment for FFT analysis \n",
    "- **noverlap**: 13,824 samples overlap between segments (50% overlap)\n",
    "- **nfft**: FFT size of 27,648 points for frequency domain transformation\n",
    "- **scaling**: 'density' returns power spectral density (power per frequency bin)\n",
    "- **average**: 'mean' specifies arithmetic mean for averaging multiple segments\n",
    "\n",
    "These parameters achieve:\n",
    "- Frequency resolution of ~984 Hz\n",
    "- Good tradeoff between spectral leakage and frequency resolution\n",
    "- Efficient processing with 50% overlap between segments\n"
   ],
   "id": "8b6db660ceeecf50"
  }
 ],
 "metadata": {
  "kernelspec": {
   "display_name": "Python 3",
   "language": "python",
   "name": "python3"
  },
  "language_info": {
   "codemirror_mode": {
    "name": "ipython",
    "version": 2
   },
   "file_extension": ".py",
   "mimetype": "text/x-python",
   "name": "python",
   "nbconvert_exporter": "python",
   "pygments_lexer": "ipython2",
   "version": "2.7.6"
  }
 },
 "nbformat": 4,
 "nbformat_minor": 5
}
