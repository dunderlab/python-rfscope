{
 "cells": [
  {
   "metadata": {},
   "cell_type": "markdown",
   "source": [
    "# Encode/Decode SpectrumFrame payloads to/from base64 JSON\n",
    "\n",
    "This notebook demonstrates how to encode and decode SpectrumFrame objects to/from base64 JSON format. SpectrumFrame are data structures that contain spectral information such as power spectral density (PSD), resolution bandwidth (RBW), start frequency and other parameters related to spectral analysis.\n",
    "\n",
    "Through the following examples, we will see how to:\n",
    "- Create a SpectrumFrame with example data\n",
    "- Encode it to a base64 JSON string\n",
    "- Decode it back to a SpectrumFrame object \n",
    "- Verify that the conversion was lossless\n"
   ],
   "id": "8a1291cd3173737f"
  },
  {
   "cell_type": "code",
   "id": "initial_id",
   "metadata": {
    "collapsed": true,
    "ExecuteTime": {
     "end_time": "2025-10-28T13:55:11.627379Z",
     "start_time": "2025-10-28T13:55:11.575355Z"
    }
   },
   "source": [
    "from rfscope.dsp.spectrum_codec import spectrumframe_to_b64, b64_to_spectrumframe\n",
    "from rfscope.common.models import SpectrumFrame\n",
    "import numpy as np"
   ],
   "outputs": [],
   "execution_count": 2
  },
  {
   "metadata": {},
   "cell_type": "markdown",
   "source": [
    "In this example we generate a SpectrumFrame object with synthetic test data, containing:\n",
    "\n",
    "- A random power spectral density (PSD) signal generated using `np.random.normal` with 256 points\n",
    "- Resolution bandwidth (RBW) of 1 Hz \n",
    "- Start frequency of 100 MHz\n",
    "- 10 averages\n",
    "- Noise floor of -150 dBm/Hz\n",
    "- Metadata indicating this is a manual test\n",
    "\n",
    "This simulated data will allow us to test the base64 encoding/decoding functions.\n"
   ],
   "id": "7ebb6f2007c95a78"
  },
  {
   "metadata": {
    "ExecuteTime": {
     "end_time": "2025-10-28T13:55:12.279084Z",
     "start_time": "2025-10-28T13:55:12.248165Z"
    }
   },
   "cell_type": "code",
   "source": [
    "spectrumframe = SpectrumFrame(\n",
    "    psd_dbm_per_hz=np.random.normal(size=2 ** 8),\n",
    "    rbw_hz=1.0,\n",
    "    f_start_hz=100e6,\n",
    "    vbw_hz=None,\n",
    "    window=None,\n",
    "    averages=10,\n",
    "    noise_floor_dbm_per_hz=-150.0,\n",
    "    metadata={\"source\": \"manual-test\"},\n",
    ")\n",
    "spectrumframe"
   ],
   "id": "6ba1a2f44e3859ca",
   "outputs": [
    {
     "data": {
      "text/plain": [
       "SpectrumFrame(psd_dbm_per_hz=array([-2.90390439e-01,  2.96514868e-01,  1.13214475e+00, -2.15951969e-01,\n",
       "        6.10971187e-02,  7.56797451e-01, -6.41394293e-01, -1.07710329e+00,\n",
       "        9.37852855e-02,  4.03087846e-01, -1.11191194e+00, -1.31474563e+00,\n",
       "        1.38460563e+00,  2.80364919e-02, -7.97202226e-01, -4.69981883e-01,\n",
       "       -5.09088038e-01,  1.49064769e-01,  7.39393714e-01, -4.56137410e-01,\n",
       "        3.87922498e-01,  3.61958357e-01, -8.97956591e-04,  1.27519628e+00,\n",
       "        8.10173189e-01,  8.16632943e-01, -1.77248055e+00,  7.35695072e-01,\n",
       "        1.13963095e+00,  1.23228229e+00,  5.51797169e-01,  1.12878582e+00,\n",
       "       -1.15695867e+00,  1.17087965e+00, -4.33505419e-01, -1.57985116e+00,\n",
       "        5.63304106e-01,  8.06451968e-01,  2.92048992e+00,  1.19862530e+00,\n",
       "        2.70530762e-01,  9.79187509e-01,  1.53646196e-01, -3.64049151e-01,\n",
       "       -1.41724674e-01,  7.82312355e-01,  2.19420743e-01, -1.66833177e-01,\n",
       "       -1.40591969e+00, -1.08242796e-01, -2.08244381e+00, -1.03901634e+00,\n",
       "       -1.38066134e+00, -2.70745480e-02, -7.04397299e-01, -1.25188683e+00,\n",
       "       -1.40625351e+00,  9.23198066e-01, -5.04500499e-02, -1.10044694e+00,\n",
       "       -1.42012096e+00,  2.86152679e+00,  1.27316173e+00,  6.33237989e-01,\n",
       "       -7.30077639e-01,  1.73199330e-01,  6.40697195e-01,  1.14940887e+00,\n",
       "       -7.65251652e-01, -3.29323167e-01, -1.38934798e+00, -1.71362636e-02,\n",
       "        3.20133022e-01, -3.89843354e-01, -9.60951767e-02,  6.87866584e-01,\n",
       "       -1.30327162e+00,  4.82106764e-01, -1.20104240e+00, -1.28997750e+00,\n",
       "        3.04613458e-01,  2.16630909e+00, -2.83075100e-01, -9.07072746e-01,\n",
       "        1.11528925e+00, -5.91867366e-01,  1.02875460e+00,  2.38759352e-02,\n",
       "        2.60524012e-01, -1.53595483e-01, -5.18097611e-01,  5.40592889e-01,\n",
       "       -2.96701629e-01, -4.46568751e-01, -9.72765726e-02, -1.32166830e+00,\n",
       "       -1.59863591e+00, -5.15079685e-01, -8.06899253e-01, -1.25221787e-01,\n",
       "       -8.89407153e-01, -1.53460695e+00,  4.98838194e-01,  1.26324481e+00,\n",
       "        9.07094556e-01,  1.27291659e+00,  6.87240717e-01, -4.47361892e-01,\n",
       "       -1.14313472e+00,  2.11342348e+00, -3.59204453e-01, -6.26010648e-01,\n",
       "        9.50642876e-01, -1.45676474e+00, -3.00352519e-01, -6.09921543e-01,\n",
       "       -4.34180579e-02,  4.11614921e-01,  1.05933380e+00,  1.12388688e+00,\n",
       "        7.49792946e-01,  1.14432010e+00, -1.62377879e-01, -1.26091769e+00,\n",
       "        2.94025484e-02,  1.56422506e+00, -2.05267112e-01, -5.89695354e-01,\n",
       "        8.36165827e-01,  2.83651608e-01,  9.41229882e-01, -2.07670416e+00,\n",
       "       -1.01321852e+00, -2.24512260e+00,  2.21087264e-01,  2.41036087e+00,\n",
       "       -1.07474909e-01, -5.28467596e-01,  1.46561344e+00,  7.75940300e-01,\n",
       "        5.04575214e-01,  1.75541462e+00,  7.98419195e-01, -1.62657141e+00,\n",
       "        1.31496303e+00, -1.08954989e-01, -1.46893552e+00, -8.18728755e-01,\n",
       "        1.17907445e-01, -1.49052734e+00,  1.16687509e+00,  1.45341366e+00,\n",
       "       -1.35280995e+00, -9.41881100e-01,  1.58537610e+00,  1.46226494e+00,\n",
       "       -1.68072976e-01,  4.90178257e-01,  7.17227480e-01,  1.76982173e-01,\n",
       "        7.30849759e-02,  7.00896749e-01, -1.86155728e-02, -2.74627547e-02,\n",
       "       -9.11434667e-01, -9.88345475e-01,  5.41915131e-01,  1.88384902e+00,\n",
       "       -2.80134689e-01,  9.66058918e-01,  1.14659007e+00,  4.80052145e-01,\n",
       "        7.00817115e-01, -4.09113742e-01, -3.18711542e+00,  3.92255390e-01,\n",
       "       -1.49857009e+00,  1.56747453e+00,  7.00463658e-01, -2.79603552e-02,\n",
       "        9.79885201e-01, -5.61802894e-01, -1.15584061e+00, -1.41765412e+00,\n",
       "        3.54471633e-01, -1.08465343e+00, -2.63479867e-01,  4.53003272e-01,\n",
       "       -4.11488829e-01, -1.36045075e+00, -8.14152015e-01,  7.51023335e-01,\n",
       "        1.94215726e+00, -1.58182180e+00,  5.68896601e-02, -6.00362781e-02,\n",
       "        1.94483707e+00,  2.80336872e-01, -7.34725606e-03,  8.13320563e-02,\n",
       "       -1.80059262e+00,  1.55389265e+00,  1.51917605e+00,  3.60882114e-01,\n",
       "        1.97869558e+00,  2.11827237e-01,  1.65596163e+00,  6.02716219e-02,\n",
       "       -1.20970734e+00, -2.65314169e-01,  1.79945889e-01,  8.37859931e-01,\n",
       "       -1.14528074e+00, -1.05932151e+00, -8.27087918e-01,  3.12339072e-01,\n",
       "       -8.94033696e-01,  3.01271342e-01, -5.04166029e-01,  2.67215280e-01,\n",
       "       -3.46707129e-01,  2.19394752e+00,  9.61966380e-01,  1.15085341e+00,\n",
       "        2.31774878e-02,  2.25110820e-01, -1.57849710e+00,  1.78151788e-01,\n",
       "       -8.70176705e-01,  1.76261566e-01,  6.05506269e-01,  1.37751149e+00,\n",
       "       -3.03260463e-01,  6.76618234e-01, -5.20937748e-01, -2.03869918e+00,\n",
       "       -2.37558653e-01, -5.29393578e-02, -6.48891470e-01, -2.10283954e-01,\n",
       "        2.88141798e+00,  7.21414171e-01,  9.58689075e-01, -1.92587817e+00,\n",
       "        9.81776736e-01, -1.04460910e+00,  3.40240181e-01, -9.69713451e-01,\n",
       "       -1.95823138e-01, -4.27611658e-01,  1.35641900e+00, -1.74340664e+00,\n",
       "       -4.89958369e-01,  3.47583368e-01, -5.53892768e-01, -1.70613826e+00]), rbw_hz=1.0, f_start_hz=100000000.0, vbw_hz=None, window=None, averages=10, noise_floor_dbm_per_hz=-150.0, metadata={'source': 'manual-test'})"
      ]
     },
     "execution_count": 3,
     "metadata": {},
     "output_type": "execute_result"
    }
   ],
   "execution_count": 3
  },
  {
   "metadata": {},
   "cell_type": "markdown",
   "source": [
    "The `spectrumframe_to_b64` function converts a SpectrumFrame object into a base64-encoded JSON string. It:\n",
    "\n",
    "1. Accepts a SpectrumFrame object as input, which contains spectral data like PSD values, RBW, start frequency, etc.\n",
    "2. Takes optional parameters:\n",
    "   - level: Compression level (1-9) for the zlib algorithm\n",
    "   - dtype: NumPy data type for PSD values (e.g. np.float32)\n",
    "3. Compresses the PSD data array using zlib\n",
    "4. Creates a JSON object with the frame's metadata and compressed PSD\n",
    "5. Encodes the JSON as base64\n",
    "6. Returns the encoded string for efficient data transmission or storage\n",
    "\n",
    "This encoding allows SpectrumFrame objects to be serialized and later reconstructed using `b64_to_spectrumframe`.\n"
   ],
   "id": "3dc7ad519dc6ee30"
  },
  {
   "metadata": {
    "ExecuteTime": {
     "end_time": "2025-10-28T13:55:12.941693Z",
     "start_time": "2025-10-28T13:55:12.938132Z"
    }
   },
   "cell_type": "code",
   "source": [
    "b64 = spectrumframe_to_b64(spectrumframe, level=6, dtype=np.float32)\n",
    "b64"
   ],
   "id": "f965ee3888eac540",
   "outputs": [
    {
     "data": {
      "text/plain": [
       "'{\"header\":{\"rbw_hz\":1.0,\"f_start_hz\":100000000.0,\"vbw_hz\":null,\"window\":null,\"averages\":10,\"noise_floor_dbm_per_hz\":-150.0,\"metadata\":{\"source\":\"manual-test\"},\"psd_dtype\":\"float32\",\"codec\":\"zlib+npy\",\"version\":1},\"data\":\"eJydyPtX03UYwHEgxKSB0cn0SBwQ0BHCSeQ21/Z5voISnohrkOYlgQ3huKFszsWMrDMRIuI2LhtIyDXtyGKtpcL2eSYYN40ABQJEOBUIWgJeBnqysn+h92/vlyoy/t3oPdZWx61OsAVCabKEzXVj81IC2D5u7JQjkmOSxPQPj0gEwv88LFEkFT53aWriUeHz99oaGOTzho9bltv/zt5RW0qv91cQ17tFoHTfT58wCr7CtB0Ob/XE7Nuf46evmPm5iX1kQ1wBlu86h+1cHfRcmOZJ1kSgvHaBquNs8EjDOjIbzodf8uZoV3UnqYq9TEYFh1vrttWD8lAUjDvGQOPUr6hM4IF4shjEbdVQGuIAjh8Xwba1pZg0WQaiRxO0iNOL+oCXoV4aCVFzXKZApAEbZR558YIC0uNdSJOglYa5OdGaneEw9O1BEjPsTX0f6zFFO2FqD1thzvr7FCovt2DGtQljUlwA3uSfRRer79GQIIIfGiJNkvF8PN1pwO0ewcySpQ5+c3aHAzNc9N7rR9psPeGmqwpy74Qiq/oc9RrW4Z7EfKNitp7ka7po/k9XTXbrtkDVQBPqhy2kvU2Df7k0YoSlivzcYM9w5ovovcBUvH6lAGpOrcW3tEqQV3TwDiVnE/dwF8qqs8UIgT28PVdBzzf8Thc5XSaxz3lcf/Y6ht56AR8WRaIn14puaUlGq/SreOnQP8Tmu1rYE5wK9+/Xgc38m/AVa5ryY0swPmQl0zh3kfJC3DB+vxR2yFuxr0tDBzxeR/cRP5MfDhJGnQOnxwsh/QHAmswSSA7bRM3CWqyeWODlcLrhC79YGmZ5DZccE6CHW0wyHh2Fy7O25o26z3Bty2qzXpBEPghdz/Q53zJ9vWslbtO0gV1DGIxstgaxbgr8hRHwiX8/GqLPwTWPSdOrdkYMVMegLHORX9lD0XtfGchWtcKUVzO6umZg1Z+9cHJzG8Q6+9DG5aeEcyYYBriBRNVcxl8W+0PLSbWx5MmUsTsuDYNss/Bhqz0sbViEfnEhrY+Sg7yjBIQ9j4k51R/2ygeo/sk7Zv1QN9k4gGhd3w3lMf7g4jBtbB9VQMzgaix/oEKdzICRWQbyx1AeDs2cpi8t3CHfaAcp46HFHaJodApl4Ix6GTwye9F9RRq/clZmEi0sQ0xuIWGuLLSJipv4g5kz+Gi6E/Yda4e8Hy+RmZ3PgD+3m3xpuQEHJ4/zdSOVGDKSQ42hHPIsKwEK1SU4WpGDq4xxOHu3hggmBchnKomdkzVm9OcSjVJH69NYTHrocfCOUsHF2yaeVJlC/Fi9KBIHkTsdB3AuK4DIbJwhIrYFHu+oomNBvuC7bwWyFDZmVYiULg7vNpldNmHze+9TdhqH0Wg50CSSga/SgpfiT4DZkI0Wfy3xhI/wVnY4vTs/Rj1qmuEhexJvjD+lEouO3LvmgKakMfwXMwIgDQ==\"}'"
      ]
     },
     "execution_count": 4,
     "metadata": {},
     "output_type": "execute_result"
    }
   ],
   "execution_count": 4
  },
  {
   "metadata": {},
   "cell_type": "markdown",
   "source": [
    "The `b64_to_spectrumframe` function converts a base64-encoded JSON string back into a SpectrumFrame object. It performs these steps:\n",
    "\n",
    "1. Takes a base64-encoded string as input that contains compressed spectral data and metadata\n",
    "2. Decodes the base64 string back to a JSON object\n",
    "3. Decompresses the PSD data array using zlib decompression\n",
    "4. Reconstructs a complete SpectrumFrame object with:\n",
    "   - Power Spectral Density (PSD) values\n",
    "   - Resolution bandwidth (RBW)\n",
    "   - Start frequency\n",
    "   - Other parameters like VBW, window type, averages\n",
    "   - Metadata\n",
    "\n",
    "This function is the reverse operation of `spectrumframe_to_b64`, allowing spectral data to be reconstructed after transmission or storage.\n"
   ],
   "id": "6c777bfa2126e959"
  },
  {
   "metadata": {
    "ExecuteTime": {
     "end_time": "2025-10-28T13:55:17.374613Z",
     "start_time": "2025-10-28T13:55:17.370993Z"
    }
   },
   "cell_type": "code",
   "source": [
    "spectrumframe_dec = b64_to_spectrumframe(b64)\n",
    "spectrumframe_dec"
   ],
   "id": "52dff870a7a5d12b",
   "outputs": [
    {
     "data": {
      "text/plain": [
       "SpectrumFrame(psd_dbm_per_hz=array([-2.90390432e-01,  2.96514869e-01,  1.13214481e+00, -2.15951964e-01,\n",
       "        6.10971190e-02,  7.56797433e-01, -6.41394317e-01, -1.07710326e+00,\n",
       "        9.37852859e-02,  4.03087854e-01, -1.11191189e+00, -1.31474566e+00,\n",
       "        1.38460565e+00,  2.80364919e-02, -7.97202229e-01, -4.69981879e-01,\n",
       "       -5.09088039e-01,  1.49064764e-01,  7.39393711e-01, -4.56137419e-01,\n",
       "        3.87922496e-01,  3.61958355e-01, -8.97956605e-04,  1.27519631e+00,\n",
       "        8.10173213e-01,  8.16632926e-01, -1.77248061e+00,  7.35695064e-01,\n",
       "        1.13963091e+00,  1.23228228e+00,  5.51797152e-01,  1.12878585e+00,\n",
       "       -1.15695870e+00,  1.17087960e+00, -4.33505416e-01, -1.57985115e+00,\n",
       "        5.63304126e-01,  8.06451976e-01,  2.92049003e+00,  1.19862533e+00,\n",
       "        2.70530760e-01,  9.79187489e-01,  1.53646201e-01, -3.64049137e-01,\n",
       "       -1.41724676e-01,  7.82312334e-01,  2.19420746e-01, -1.66833177e-01,\n",
       "       -1.40591967e+00, -1.08242795e-01, -2.08244371e+00, -1.03901637e+00,\n",
       "       -1.38066137e+00, -2.70745475e-02, -7.04397321e-01, -1.25188684e+00,\n",
       "       -1.40625346e+00,  9.23198044e-01, -5.04500493e-02, -1.10044694e+00,\n",
       "       -1.42012095e+00,  2.86152673e+00,  1.27316177e+00,  6.33238018e-01,\n",
       "       -7.30077624e-01,  1.73199326e-01,  6.40697181e-01,  1.14940882e+00,\n",
       "       -7.65251637e-01, -3.29323173e-01, -1.38934803e+00, -1.71362627e-02,\n",
       "        3.20133030e-01, -3.89843345e-01, -9.60951746e-02,  6.87866569e-01,\n",
       "       -1.30327165e+00,  4.82106775e-01, -1.20104241e+00, -1.28997755e+00,\n",
       "        3.04613471e-01,  2.16630912e+00, -2.83075094e-01, -9.07072723e-01,\n",
       "        1.11528921e+00, -5.91867387e-01,  1.02875459e+00,  2.38759350e-02,\n",
       "        2.60524005e-01, -1.53595477e-01, -5.18097639e-01,  5.40592909e-01,\n",
       "       -2.96701640e-01, -4.46568757e-01, -9.72765759e-02, -1.32166827e+00,\n",
       "       -1.59863591e+00, -5.15079677e-01, -8.06899250e-01, -1.25221789e-01,\n",
       "       -8.89407158e-01, -1.53460693e+00,  4.98838186e-01,  1.26324487e+00,\n",
       "        9.07094538e-01,  1.27291656e+00,  6.87240720e-01, -4.47361887e-01,\n",
       "       -1.14313471e+00,  2.11342359e+00, -3.59204441e-01, -6.26010656e-01,\n",
       "        9.50642884e-01, -1.45676470e+00, -3.00352514e-01, -6.09921515e-01,\n",
       "       -4.34180573e-02,  4.11614925e-01,  1.05933380e+00,  1.12388682e+00,\n",
       "        7.49792933e-01,  1.14432013e+00, -1.62377879e-01, -1.26091766e+00,\n",
       "        2.94025484e-02,  1.56422508e+00, -2.05267116e-01, -5.89695334e-01,\n",
       "        8.36165845e-01,  2.83651620e-01,  9.41229880e-01, -2.07670426e+00,\n",
       "       -1.01321852e+00, -2.24512267e+00,  2.21087262e-01,  2.41036081e+00,\n",
       "       -1.07474908e-01, -5.28467596e-01,  1.46561348e+00,  7.75940299e-01,\n",
       "        5.04575193e-01,  1.75541461e+00,  7.98419178e-01, -1.62657142e+00,\n",
       "        1.31496298e+00, -1.08954988e-01, -1.46893549e+00, -8.18728745e-01,\n",
       "        1.17907442e-01, -1.49052739e+00,  1.16687512e+00,  1.45341361e+00,\n",
       "       -1.35280991e+00, -9.41881120e-01,  1.58537614e+00,  1.46226490e+00,\n",
       "       -1.68072969e-01,  4.90178257e-01,  7.17227459e-01,  1.76982179e-01,\n",
       "        7.30849728e-02,  7.00896740e-01, -1.86155736e-02, -2.74627544e-02,\n",
       "       -9.11434650e-01, -9.88345504e-01,  5.41915119e-01,  1.88384902e+00,\n",
       "       -2.80134678e-01,  9.66058910e-01,  1.14659011e+00,  4.80052143e-01,\n",
       "        7.00817108e-01, -4.09113735e-01, -3.18711543e+00,  3.92255396e-01,\n",
       "       -1.49857008e+00,  1.56747448e+00,  7.00463653e-01, -2.79603545e-02,\n",
       "        9.79885221e-01, -5.61802924e-01, -1.15584064e+00, -1.41765416e+00,\n",
       "        3.54471624e-01, -1.08465338e+00, -2.63479859e-01,  4.53003258e-01,\n",
       "       -4.11488831e-01, -1.36045074e+00, -8.14152002e-01,  7.51023352e-01,\n",
       "        1.94215727e+00, -1.58182180e+00,  5.68896607e-02, -6.00362793e-02,\n",
       "        1.94483709e+00,  2.80336887e-01, -7.34725595e-03,  8.13320577e-02,\n",
       "       -1.80059266e+00,  1.55389261e+00,  1.51917601e+00,  3.60882103e-01,\n",
       "        1.97869563e+00,  2.11827233e-01,  1.65596163e+00,  6.02716208e-02,\n",
       "       -1.20970738e+00, -2.65314162e-01,  1.79945886e-01,  8.37859929e-01,\n",
       "       -1.14528072e+00, -1.05932152e+00, -8.27087939e-01,  3.12339067e-01,\n",
       "       -8.94033670e-01,  3.01271349e-01, -5.04166007e-01,  2.67215282e-01,\n",
       "       -3.46707135e-01,  2.19394755e+00,  9.61966395e-01,  1.15085340e+00,\n",
       "        2.31774878e-02,  2.25110814e-01, -1.57849705e+00,  1.78151786e-01,\n",
       "       -8.70176733e-01,  1.76261559e-01,  6.05506241e-01,  1.37751150e+00,\n",
       "       -3.03260475e-01,  6.76618218e-01, -5.20937741e-01, -2.03869915e+00,\n",
       "       -2.37558648e-01, -5.29393591e-02, -6.48891449e-01, -2.10283950e-01,\n",
       "        2.88141799e+00,  7.21414149e-01,  9.58689094e-01, -1.92587817e+00,\n",
       "        9.81776714e-01, -1.04460907e+00,  3.40240180e-01, -9.69713449e-01,\n",
       "       -1.95823133e-01, -4.27611649e-01,  1.35641897e+00, -1.74340665e+00,\n",
       "       -4.89958376e-01,  3.47583354e-01, -5.53892791e-01, -1.70613825e+00]), rbw_hz=1.0, f_start_hz=100000000.0, vbw_hz=None, window=None, averages=10, noise_floor_dbm_per_hz=-150.0, metadata={'source': 'manual-test'})"
      ]
     },
     "execution_count": 5,
     "metadata": {},
     "output_type": "execute_result"
    }
   ],
   "execution_count": 5
  },
  {
   "metadata": {},
   "cell_type": "markdown",
   "source": "The comparison `spectrumframe == spectrumframe_dec` verifies if the original SpectrumFrame object is equal to the decoded SpectrumFrame object after the base64 encoding and decoding process. This validates that the conversion was lossless and all the data (PSD values, RBW, start frequency, metadata, etc.) was preserved correctly during the encoding and decoding operations.\n",
   "id": "613ebcbe264842d"
  },
  {
   "metadata": {
    "ExecuteTime": {
     "end_time": "2025-10-28T13:55:18.223679Z",
     "start_time": "2025-10-28T13:55:18.220039Z"
    }
   },
   "cell_type": "code",
   "source": "spectrumframe == spectrumframe_dec",
   "id": "7ff99111398d1a91",
   "outputs": [
    {
     "data": {
      "text/plain": [
       "True"
      ]
     },
     "execution_count": 6,
     "metadata": {},
     "output_type": "execute_result"
    }
   ],
   "execution_count": 6
  }
 ],
 "metadata": {
  "kernelspec": {
   "display_name": "Python 3",
   "language": "python",
   "name": "python3"
  },
  "language_info": {
   "codemirror_mode": {
    "name": "ipython",
    "version": 2
   },
   "file_extension": ".py",
   "mimetype": "text/x-python",
   "name": "python",
   "nbconvert_exporter": "python",
   "pygments_lexer": "ipython2",
   "version": "2.7.6"
  }
 },
 "nbformat": 4,
 "nbformat_minor": 5
}
