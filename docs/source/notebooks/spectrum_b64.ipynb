{
 "cells": [
  {
   "metadata": {},
   "cell_type": "markdown",
   "source": [
    "# Encode/Decode SpectrumFrame payloads to/from base64 JSON\n",
    "\n",
    "This notebook demonstrates how to encode and decode SpectrumFrame objects to/from base64 JSON format. SpectrumFrame are data structures that contain spectral information such as power spectral density (PSD), resolution bandwidth (RBW), start frequency and other parameters related to spectral analysis.\n",
    "\n",
    "Through the following examples, we will see how to:\n",
    "- Create a SpectrumFrame with example data\n",
    "- Encode it to a base64 JSON string\n",
    "- Decode it back to a SpectrumFrame object \n",
    "- Verify that the conversion was lossless\n"
   ],
   "id": "8a1291cd3173737f"
  },
  {
   "cell_type": "code",
   "id": "initial_id",
   "metadata": {
    "collapsed": true,
    "ExecuteTime": {
     "end_time": "2025-10-27T23:48:56.415410Z",
     "start_time": "2025-10-27T23:48:56.371043Z"
    }
   },
   "source": [
    "from rfscope.dsp.spectrum_codec import spectrumframe_to_b64, b64_to_spectrumframe\n",
    "from rfscope.common.models import SpectrumFrame\n",
    "import numpy as np"
   ],
   "outputs": [],
   "execution_count": 1
  },
  {
   "metadata": {},
   "cell_type": "markdown",
   "source": [
    "In this example we generate a SpectrumFrame object with synthetic test data, containing:\n",
    "\n",
    "- A random power spectral density (PSD) signal generated using `np.random.normal` with 256 points\n",
    "- Resolution bandwidth (RBW) of 1 Hz \n",
    "- Start frequency of 100 MHz\n",
    "- 10 averages\n",
    "- Noise floor of -150 dBm/Hz\n",
    "- Metadata indicating this is a manual test\n",
    "\n",
    "This simulated data will allow us to test the base64 encoding/decoding functions.\n"
   ],
   "id": "7ebb6f2007c95a78"
  },
  {
   "metadata": {
    "ExecuteTime": {
     "end_time": "2025-10-27T23:50:25.200907Z",
     "start_time": "2025-10-27T23:50:25.195686Z"
    }
   },
   "cell_type": "code",
   "source": [
    "spectrumframe = SpectrumFrame(\n",
    "    psd_dbm_per_hz=np.random.normal(size=2 ** 8),\n",
    "    rbw_hz=1.0,\n",
    "    f_start_hz=100e6,\n",
    "    vbw_hz=None,\n",
    "    window=None,\n",
    "    averages=10,\n",
    "    noise_floor_dbm_per_hz=-150.0,\n",
    "    metadata={\"source\": \"manual-test\"},\n",
    ")\n",
    "spectrumframe"
   ],
   "id": "6ba1a2f44e3859ca",
   "outputs": [
    {
     "data": {
      "text/plain": [
       "SpectrumFrame(psd_dbm_per_hz=array([-0.39810591,  0.44584921, -1.07476901,  0.19258734,  0.58877667,\n",
       "        0.70602828, -1.45842308, -2.59885666,  0.26371824,  0.01704271,\n",
       "        0.17900362, -0.9992248 , -0.32436327, -0.3823979 ,  0.38912887,\n",
       "        0.65460093,  0.05101213,  0.53927261,  1.81942079,  0.69452108,\n",
       "       -0.08237735, -0.35463551,  1.41394101,  0.61666402, -0.31588082,\n",
       "        0.67177774, -1.33901183,  0.83012766, -1.25052346, -0.96308857,\n",
       "        1.45045218, -0.24191703,  0.44921357,  1.60573478,  0.04293111,\n",
       "        0.99843316,  0.37792243,  0.29230699,  1.45018173, -0.24626616,\n",
       "       -0.32929642,  0.52713124,  0.66485291, -1.35337427,  0.12471062,\n",
       "        0.0942092 ,  0.20116989, -0.59883989, -1.4224333 ,  3.55887876,\n",
       "        0.10754161,  0.39683387,  0.46227641, -0.79520364,  1.26108076,\n",
       "       -1.05550119,  0.58806897, -0.75946944,  0.32232615,  1.16898717,\n",
       "       -2.05375654,  1.64724958,  0.57582508, -0.96680925, -1.34701274,\n",
       "       -0.94231076,  0.75934328, -0.76938466, -0.21449734, -1.06800215,\n",
       "       -0.61135555,  0.38323123,  0.34193501,  0.69967057, -1.16222062,\n",
       "        2.52446576,  1.1874776 ,  0.70489326,  0.75151424, -0.02327311,\n",
       "       -0.74497249,  0.11901992,  0.01782097, -0.87774402, -0.04139498,\n",
       "        0.94939151, -0.22982576, -0.09246811,  1.02966512,  1.43276903,\n",
       "       -0.76242807,  0.98893456, -0.20796658,  0.69874956,  0.27488025,\n",
       "       -2.02210266,  1.00550023, -2.21074064,  0.48907377,  1.57860083,\n",
       "        0.88952665,  0.41397094, -0.91738813,  0.71721642, -0.80895616,\n",
       "       -1.38610873,  0.90457004,  1.39045399, -1.03111241, -2.11550675,\n",
       "       -0.27739087, -1.83196769,  0.30398174,  1.29414094, -0.31583646,\n",
       "       -1.06795511, -0.84586292,  0.98527734, -1.4297187 , -0.45214375,\n",
       "       -0.06905864,  0.54721114,  0.22510384, -0.30879793,  0.62786939,\n",
       "        0.27652363, -0.84019911, -1.31107812, -1.57121791,  1.94654199,\n",
       "        1.096154  ,  0.31494445,  0.6435049 , -0.06811164, -1.81918746,\n",
       "        1.03286577, -0.32516204,  1.21481579,  1.26807794, -1.27323503,\n",
       "        1.0373882 , -0.69215469, -0.21584641, -1.27344539,  1.24584069,\n",
       "        0.28224927,  1.53188649,  2.71949082, -2.1391991 , -0.55490259,\n",
       "       -0.85001193, -1.02590667, -0.08125275,  0.05012441, -0.05527985,\n",
       "       -0.8492401 , -0.87381088,  0.07607715, -0.6027346 ,  0.21468656,\n",
       "       -0.29149699, -2.14049907, -0.59035885,  0.2723632 , -0.47715208,\n",
       "       -0.68516867,  1.07944807,  1.61050852,  0.963048  , -0.25074229,\n",
       "       -0.68131531, -0.6034373 , -0.30921456, -0.75082423,  0.87121484,\n",
       "        0.7116034 ,  1.21407814, -0.55796154,  0.29537375,  2.05831768,\n",
       "        1.38174194, -0.39796837,  0.09364419, -0.32679702,  1.00645688,\n",
       "       -0.7482632 , -0.00529197, -0.07318534,  0.97736858, -1.05965731,\n",
       "       -0.25253259, -0.30381421, -1.31107337, -0.61320348, -0.79780548,\n",
       "       -0.29575269, -0.50232754, -0.26920359, -0.33440979, -1.61324895,\n",
       "       -1.59567565, -0.86227856, -2.51258575,  0.15866213, -1.75906511,\n",
       "       -0.24272951,  0.57213535, -0.56248733,  1.04806757,  0.55317656,\n",
       "        0.75330769, -0.0861641 ,  0.09173961, -0.68268718, -0.22807306,\n",
       "        0.25764784, -0.6302629 , -0.81543742,  1.01770317,  0.88051048,\n",
       "        0.09593557, -1.24670028, -1.23704397,  2.29138474,  0.32691546,\n",
       "       -0.82648688, -2.19481248, -1.21561857,  1.13644022,  0.53987255,\n",
       "       -0.55789579, -0.92833663,  1.17831376, -1.26825846, -0.19844194,\n",
       "        0.53724991, -0.2481679 ,  1.86917652, -1.50105229, -0.5438248 ,\n",
       "       -0.50474033,  0.71724764, -1.49751842,  2.10020713,  1.18210066,\n",
       "        0.27195432, -1.56600301, -1.18969244,  0.73094418,  1.24860907,\n",
       "       -0.59393666,  0.37351345,  1.00562819, -1.09422854,  1.32365283,\n",
       "       -0.47645897]), rbw_hz=1.0, f_start_hz=100000000.0, vbw_hz=None, window=None, averages=10, noise_floor_dbm_per_hz=-150.0, metadata={'source': 'manual-test'})"
      ]
     },
     "execution_count": 12,
     "metadata": {},
     "output_type": "execute_result"
    }
   ],
   "execution_count": 12
  },
  {
   "metadata": {},
   "cell_type": "markdown",
   "source": [
    "The `spectrumframe_to_b64` function converts a SpectrumFrame object into a base64-encoded JSON string. It:\n",
    "\n",
    "1. Accepts a SpectrumFrame object as input, which contains spectral data like PSD values, RBW, start frequency, etc.\n",
    "2. Takes optional parameters:\n",
    "   - level: Compression level (1-9) for the zlib algorithm\n",
    "   - dtype: NumPy data type for PSD values (e.g. np.float32)\n",
    "3. Compresses the PSD data array using zlib\n",
    "4. Creates a JSON object with the frame's metadata and compressed PSD\n",
    "5. Encodes the JSON as base64\n",
    "6. Returns the encoded string for efficient data transmission or storage\n",
    "\n",
    "This encoding allows SpectrumFrame objects to be serialized and later reconstructed using `b64_to_spectrumframe`.\n"
   ],
   "id": "3dc7ad519dc6ee30"
  },
  {
   "metadata": {},
   "cell_type": "code",
   "outputs": [],
   "execution_count": null,
   "source": [
    "b64 = spectrumframe_to_b64(spectrumframe, level=6, dtype=np.float32)\n",
    "b64"
   ],
   "id": "f965ee3888eac540"
  },
  {
   "metadata": {},
   "cell_type": "markdown",
   "source": [
    "The `b64_to_spectrumframe` function converts a base64-encoded JSON string back into a SpectrumFrame object. It performs these steps:\n",
    "\n",
    "1. Takes a base64-encoded string as input that contains compressed spectral data and metadata\n",
    "2. Decodes the base64 string back to a JSON object\n",
    "3. Decompresses the PSD data array using zlib decompression\n",
    "4. Reconstructs a complete SpectrumFrame object with:\n",
    "   - Power Spectral Density (PSD) values\n",
    "   - Resolution bandwidth (RBW)\n",
    "   - Start frequency\n",
    "   - Other parameters like VBW, window type, averages\n",
    "   - Metadata\n",
    "\n",
    "This function is the reverse operation of `spectrumframe_to_b64`, allowing spectral data to be reconstructed after transmission or storage.\n"
   ],
   "id": "6c777bfa2126e959"
  },
  {
   "metadata": {
    "ExecuteTime": {
     "end_time": "2025-10-27T23:50:11.261932Z",
     "start_time": "2025-10-27T23:50:11.256104Z"
    }
   },
   "cell_type": "code",
   "source": [
    "spectrumframe_dec = b64_to_spectrumframe(b64)\n",
    "spectrumframe_dec"
   ],
   "id": "52dff870a7a5d12b",
   "outputs": [
    {
     "data": {
      "text/plain": [
       "SpectrumFrame(psd_dbm_per_hz=array([-0.38123161,  0.56174672,  0.40798554, -0.64209402, -1.60040081,\n",
       "        0.1443435 ,  0.92721075, -0.86940002,  0.6069656 , -1.82786465,\n",
       "       -0.34421599, -1.52997243,  0.5353874 , -0.01034733,  0.08799654,\n",
       "        1.16870332, -2.41259909, -1.55795944,  1.18343556, -0.18668991,\n",
       "       -0.31675315,  0.83310229,  0.69673347, -0.33185685,  1.79961002,\n",
       "        0.8883273 ,  1.22740507,  0.96074748, -0.27207404,  0.22959007,\n",
       "       -0.39596161, -2.30852985,  0.07097191, -0.29879045,  1.04978061,\n",
       "        0.17316896,  0.47456503,  2.34408832,  0.64188343,  0.6265347 ,\n",
       "        0.25362152, -0.5640837 , -0.14194998, -0.21708123, -0.58840615,\n",
       "       -0.02774872, -0.03094758,  0.10428508,  0.91558433, -0.23687685,\n",
       "        0.93539006,  0.34020093, -0.79414374, -0.59478641, -0.11436195,\n",
       "       -0.81786925, -0.20094211, -0.73166072, -2.25396705, -0.18276757,\n",
       "       -1.93241739,  0.57434303,  0.34563962, -1.15695095, -0.22824711,\n",
       "        0.78610629, -0.7141242 , -1.01476061, -0.37236467,  0.26059785,\n",
       "        1.18217671,  1.17373693,  0.51580131,  0.83517766, -0.31513017,\n",
       "       -0.7349329 , -0.37720248,  0.57728732,  1.39389968, -0.50320458,\n",
       "       -0.87589228, -1.00134492,  0.7253381 , -1.07479   ,  1.83113706,\n",
       "        1.30514717,  0.31234771, -0.54555994, -0.59788221, -0.2121217 ,\n",
       "       -1.57477415, -0.17658696,  0.41986492,  0.27726367, -0.69361043,\n",
       "        1.35280919,  2.51578593, -0.12998898, -0.66216725, -0.04570412,\n",
       "        0.36666948, -0.56683004,  1.07666445,  0.1520552 ,  0.03949072,\n",
       "       -0.550951  ,  1.50070179,  0.09263568, -0.57957023, -0.34582144,\n",
       "        0.81307268, -0.21225509, -0.31477973, -1.49915767,  0.43729964,\n",
       "        0.06939685,  1.70733774, -0.55059719,  0.19505581, -0.77339518,\n",
       "       -2.30570841, -1.10015607, -0.67190874,  0.84156513, -0.3017354 ,\n",
       "        0.7645461 , -0.88307154, -0.17375615, -0.1939453 , -0.86559278,\n",
       "       -0.64393318,  0.78615636,  0.91372323,  0.10943167,  0.94665301,\n",
       "       -0.53685957, -0.27325246, -0.99302411, -1.34619749,  0.28335127,\n",
       "       -0.35841861, -1.37630129,  0.96112245, -0.92786884, -1.49946094,\n",
       "        0.26640818, -0.24698161,  0.45066959,  1.45106196, -0.24873461,\n",
       "        1.15348446, -0.26106974, -0.02587658, -0.54119718, -0.63961232,\n",
       "       -0.69909436, -0.95119476, -2.162184  ,  0.02277138,  0.34276363,\n",
       "       -0.70958799, -1.80563855, -0.52280498, -0.90201932,  0.38237447,\n",
       "       -0.90313613, -0.79068196, -0.2128567 ,  0.02777519, -0.46478271,\n",
       "        0.01678514, -0.84464461, -0.04742077, -0.13006495,  0.67876393,\n",
       "        0.40331724, -1.32506311,  0.0712994 ,  0.09314127, -0.05730086,\n",
       "        0.02350485,  2.0276618 , -1.74770236,  0.02088602, -0.45682061,\n",
       "        0.46421808, -0.40281183,  1.03865373, -0.13556454, -1.09890282,\n",
       "        0.27329564,  0.40744096,  0.17081656, -0.82290173, -1.41549814,\n",
       "       -0.67997593,  0.43287796, -0.54554296,  0.76585543, -0.18875934,\n",
       "       -2.15375519,  0.02276755,  1.08034039,  0.14150134,  0.37353799,\n",
       "        0.24138851, -0.42289367, -0.06807431, -0.50594747,  0.50103045,\n",
       "       -0.38152063, -0.50895429, -0.73844016,  0.67747051, -0.70166034,\n",
       "        0.83010894,  1.85057461, -1.08989108, -1.2292484 , -0.60211593,\n",
       "       -1.70804596, -1.25255907, -0.65997088,  0.49641305, -0.44246811,\n",
       "        0.91457134, -0.98420852,  0.11791897, -0.53940463, -1.97273493,\n",
       "        0.50341541,  0.75013125,  0.17276886,  0.39475331, -1.82536864,\n",
       "        0.01145687, -1.03485012, -1.89489186,  1.10905492,  0.20296836,\n",
       "        1.83150339,  0.58410072,  0.50654542,  1.11093974, -1.14929795,\n",
       "       -0.33429578, -0.6430558 , -0.28500897,  0.78633821,  2.06868386,\n",
       "       -0.74293017, -1.91783226, -1.07456458,  0.78571844, -0.3858161 ,\n",
       "        0.29824689]), rbw_hz=1.0, f_start_hz=100000000.0, vbw_hz=None, window=None, averages=10, noise_floor_dbm_per_hz=-150.0, metadata={'source': 'manual-test'})"
      ]
     },
     "execution_count": 10,
     "metadata": {},
     "output_type": "execute_result"
    }
   ],
   "execution_count": 10
  },
  {
   "metadata": {},
   "cell_type": "markdown",
   "source": "The comparison `spectrumframe == spectrumframe_dec` verifies if the original SpectrumFrame object is equal to the decoded SpectrumFrame object after the base64 encoding and decoding process. This validates that the conversion was lossless and all the data (PSD values, RBW, start frequency, metadata, etc.) was preserved correctly during the encoding and decoding operations.\n",
   "id": "613ebcbe264842d"
  },
  {
   "metadata": {
    "ExecuteTime": {
     "end_time": "2025-10-27T23:50:11.552401Z",
     "start_time": "2025-10-27T23:50:11.548430Z"
    }
   },
   "cell_type": "code",
   "source": "spectrumframe == spectrumframe_dec",
   "id": "7ff99111398d1a91",
   "outputs": [
    {
     "data": {
      "text/plain": [
       "True"
      ]
     },
     "execution_count": 11,
     "metadata": {},
     "output_type": "execute_result"
    }
   ],
   "execution_count": 11
  }
 ],
 "metadata": {
  "kernelspec": {
   "display_name": "Python 3",
   "language": "python",
   "name": "python3"
  },
  "language_info": {
   "codemirror_mode": {
    "name": "ipython",
    "version": 2
   },
   "file_extension": ".py",
   "mimetype": "text/x-python",
   "name": "python",
   "nbconvert_exporter": "python",
   "pygments_lexer": "ipython2",
   "version": "2.7.6"
  }
 },
 "nbformat": 4,
 "nbformat_minor": 5
}
