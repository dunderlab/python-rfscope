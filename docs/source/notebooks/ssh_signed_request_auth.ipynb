{
 "cells": [
  {
   "metadata": {},
   "cell_type": "markdown",
   "source": [
    "# SSH Signed Request Auth\n",
    "\n",
    "This notebook demonstrates how to make authenticated API requests using SSH signing. It provides examples for uploading campaign measurements and performing real-time analysis by making signed HTTP requests to a REST API endpoint.\n"
   ],
   "id": "bdf3ac520842a687"
  },
  {
   "metadata": {
    "ExecuteTime": {
     "end_time": "2025-10-25T17:48:29.864727Z",
     "start_time": "2025-10-25T17:48:29.860879Z"
    }
   },
   "cell_type": "code",
   "source": [
    "from rfscope.crypto.api_requests import signed_request\n",
    "from datetime import datetime\n",
    "import json\n",
    "\n",
    "API_URL = \"http://127.0.0.1:8000/api\"\n",
    "\n",
    "def request(endpoint, payload={}, method=\"POST\"):\n",
    "    response = signed_request(\n",
    "    f\"{API_URL}/{endpoint}\",\n",
    "    json_body=payload,\n",
    "    priv_path=\"~/.ssh/id_ed25519\",\n",
    "    verify_tls=True,\n",
    "    method=method\n",
    "    )\n",
    "\n",
    "    print(\"Status:\", response.status_code)\n",
    "    print(\"Reason:\", response.reason)\n",
    "    try: print(\"JSON:\", json.dumps(response.json(), indent=4))\n",
    "    except: pass\n"
   ],
   "id": "300b0e79aa550c9a",
   "outputs": [],
   "execution_count": 62
  },
  {
   "metadata": {},
   "cell_type": "markdown",
   "source": [
    "## Campaign measure upload\n",
    "\n",
    "In this section, we demonstrate how to upload campaign measurements by making a signed request to the monitoring/measures/ endpoint. The payload includes campaign ID, timestamp, PSD data, and GPS coordinates.\n"
   ],
   "id": "ce690a0faf3806d7"
  },
  {
   "metadata": {
    "ExecuteTime": {
     "end_time": "2025-10-25T17:31:43.972956Z",
     "start_time": "2025-10-25T17:31:43.969834Z"
    }
   },
   "cell_type": "code",
   "source": [
    "payload = {\n",
    "    \"campaign\": 119,\n",
    "    \"timestamp\": datetime.now().timestamp(),\n",
    "    \"psd\": \"XXXXXX\",\n",
    "    \"gps_lat\": 0.0,\n",
    "    \"gps_lng\": 0.0,\n",
    "}"
   ],
   "id": "e5c3d0291b4ab5c",
   "outputs": [],
   "execution_count": 33
  },
  {
   "metadata": {
    "ExecuteTime": {
     "end_time": "2025-10-25T17:34:14.288482Z",
     "start_time": "2025-10-25T17:34:14.275861Z"
    }
   },
   "cell_type": "code",
   "source": "request('monitoring/measures/', payload)",
   "id": "d6e9816be8c7820e",
   "outputs": [
    {
     "name": "stdout",
     "output_type": "stream",
     "text": [
      "Status: 201\n",
      "Reason: Created\n",
      "JSON: {\n",
      "    \"campaign\": 119,\n",
      "    \"psd\": \"XXXXXX\",\n",
      "    \"timestamp\": \"2025-10-25T17:31:43.971196Z\",\n",
      "    \"gps_lat\": 0.0,\n",
      "    \"gps_lng\": 0.0\n",
      "}\n"
     ]
    }
   ],
   "execution_count": 38
  },
  {
   "metadata": {
    "ExecuteTime": {
     "end_time": "2025-10-25T17:34:28.165685Z",
     "start_time": "2025-10-25T17:34:28.155098Z"
    }
   },
   "cell_type": "code",
   "source": "request('monitoring/measures/', {})\n",
   "id": "bca8948e2d58274b",
   "outputs": [
    {
     "name": "stdout",
     "output_type": "stream",
     "text": [
      "Status: 400\n",
      "Reason: Bad Request\n",
      "JSON: {\n",
      "    \"campaign\": [\n",
      "        \"This field is required.\"\n",
      "    ],\n",
      "    \"psd\": [\n",
      "        \"This field is required.\"\n",
      "    ],\n",
      "    \"timestamp\": [\n",
      "        \"This field is required.\"\n",
      "    ],\n",
      "    \"gps_lat\": [\n",
      "        \"This field is required.\"\n",
      "    ],\n",
      "    \"gps_lng\": [\n",
      "        \"This field is required.\"\n",
      "    ]\n",
      "}\n"
     ]
    }
   ],
   "execution_count": 39
  },
  {
   "metadata": {},
   "cell_type": "markdown",
   "source": [
    "## Real-time analysis\n",
    "\n",
    "This section demonstrates how to perform real-time spectrum analysis using the monitoring/temporal-measures/ endpoint. The payload includes timestamp, PSD data, frequency parameters (start, end, resolution), receiver port number, and GPS coordinates.\n"
   ],
   "id": "94270d173c32568a"
  },
  {
   "metadata": {
    "ExecuteTime": {
     "end_time": "2025-10-25T17:41:01.653855Z",
     "start_time": "2025-10-25T17:41:01.648371Z"
    }
   },
   "cell_type": "code",
   "source": [
    "payload = {\n",
    "    \"timestamp\": datetime.now().timestamp(),\n",
    "    \"psd\": \"XXXXXX\",\n",
    "    \"start_freq_hz\": 88000000,\n",
    "    \"end_freq_hz\": 108000000,\n",
    "    \"resolution_hz\": 1000.0,\n",
    "    \"port\": 2,\n",
    "    \"gps_lat\": 1.2,\n",
    "    \"gps_lng\": 3.4,\n",
    "}"
   ],
   "id": "301e77e49d23f6e5",
   "outputs": [],
   "execution_count": 49
  },
  {
   "metadata": {
    "ExecuteTime": {
     "end_time": "2025-10-25T17:41:02.061876Z",
     "start_time": "2025-10-25T17:41:02.053771Z"
    }
   },
   "cell_type": "code",
   "source": "request('monitoring/temporal-measures/', payload)",
   "id": "49c61e91922545d5",
   "outputs": [
    {
     "name": "stdout",
     "output_type": "stream",
     "text": [
      "Status: 201\n",
      "Reason: Created\n",
      "JSON: {\n",
      "    \"psd\": \"XXXXXX\",\n",
      "    \"start_freq_hz\": 88000000,\n",
      "    \"end_freq_hz\": 108000000,\n",
      "    \"resolution_hz\": 1000.0,\n",
      "    \"port\": 2,\n",
      "    \"timestamp\": \"2025-10-25T17:41:01.650106Z\",\n",
      "    \"gps_lat\": 1.2,\n",
      "    \"gps_lng\": 3.4\n",
      "}\n"
     ]
    }
   ],
   "execution_count": 50
  },
  {
   "metadata": {
    "ExecuteTime": {
     "end_time": "2025-10-25T17:41:26.777782Z",
     "start_time": "2025-10-25T17:41:26.764962Z"
    }
   },
   "cell_type": "code",
   "source": "request('monitoring/temporal-measures/', {})",
   "id": "d28c435256b8270f",
   "outputs": [
    {
     "name": "stdout",
     "output_type": "stream",
     "text": [
      "Status: 400\n",
      "Reason: Bad Request\n",
      "JSON: {\n",
      "    \"psd\": [\n",
      "        \"This field is required.\"\n",
      "    ],\n",
      "    \"start_freq_hz\": [\n",
      "        \"This field is required.\"\n",
      "    ],\n",
      "    \"end_freq_hz\": [\n",
      "        \"This field is required.\"\n",
      "    ],\n",
      "    \"resolution_hz\": [\n",
      "        \"This field is required.\"\n",
      "    ],\n",
      "    \"port\": [\n",
      "        \"This field is required.\"\n",
      "    ],\n",
      "    \"timestamp\": [\n",
      "        \"This field is required.\"\n",
      "    ],\n",
      "    \"gps_lat\": [\n",
      "        \"This field is required.\"\n",
      "    ],\n",
      "    \"gps_lng\": [\n",
      "        \"This field is required.\"\n",
      "    ]\n",
      "}\n"
     ]
    }
   ],
   "execution_count": 51
  },
  {
   "metadata": {},
   "cell_type": "markdown",
   "source": [
    "## Query campaigns and real-time analysis parameters\n",
    "\n",
    "This section demonstrates how to query information about active campaigns and real-time analysis tasks by making GET requests to the monitoring/device-tasks/ endpoint. This allows retrieving the current configuration and status of monitoring activities.\n"
   ],
   "id": "fba83adf27e8ceca"
  },
  {
   "metadata": {
    "ExecuteTime": {
     "end_time": "2025-10-25T17:47:21.623487Z",
     "start_time": "2025-10-25T17:47:21.614810Z"
    }
   },
   "cell_type": "code",
   "source": "request('monitoring/device-tasks/', method=\"GET\")",
   "id": "895561854ecb21ee",
   "outputs": [
    {
     "name": "stdout",
     "output_type": "stream",
     "text": [
      "Status: 200\n",
      "Reason: OK\n",
      "JSON: {\n",
      "    \"task\": {\n",
      "        \"id\": \"111\",\n",
      "        \"kind\": \"scan\",\n",
      "        \"payload\": {\n",
      "            \"start_freq\": 2000000.0,\n",
      "            \"end_freq\": 6000000000.0\n",
      "        },\n",
      "        \"status\": \"dispatched\"\n",
      "    }\n",
      "}\n"
     ]
    }
   ],
   "execution_count": 58
  },
  {
   "metadata": {
    "ExecuteTime": {
     "end_time": "2025-10-25T21:29:22.331018Z",
     "start_time": "2025-10-25T21:29:22.300295Z"
    }
   },
   "cell_type": "code",
   "source": "request('monitoring/device-tasks/', method=\"GET\")",
   "id": "6168a1d4ee5014db",
   "outputs": [
    {
     "name": "stdout",
     "output_type": "stream",
     "text": [
      "Status: 200\n",
      "Reason: OK\n",
      "JSON: {\n",
      "    \"campaigns\": [\n",
      "        {\n",
      "            \"campaign_id\": 118,\n",
      "            \"status\": \"scheduled\",\n",
      "            \"start_freq_hz\": 439000000,\n",
      "            \"end_freq_hz\": 1109000000,\n",
      "            \"resolution_hz\": 300000.0,\n",
      "            \"acquisition_period_s\": 43200,\n",
      "            \"timeframe\": {\n",
      "                \"start\": 1761353433000,\n",
      "                \"end\": 1768294233000\n",
      "            },\n",
      "            \"antenna_port\": 2\n",
      "        }\n",
      "    ],\n",
      "    \"real-time\": {\n",
      "        \"active\": true,\n",
      "        \"start_freq_hz\": 88,\n",
      "        \"end_freq_hz\": 108,\n",
      "        \"resolution_hz\": 1.0,\n",
      "        \"antenna_gain_dbi\": 18.3,\n",
      "        \"antenna_impedance_ohm\": 50.0,\n",
      "        \"demodulation\": {\n",
      "            \"type\": \"\",\n",
      "            \"bandwidth_hz\": \"\",\n",
      "            \"center_freq_hz\": \"\"\n",
      "        }\n",
      "    }\n",
      "}\n"
     ]
    }
   ],
   "execution_count": 213
  }
 ],
 "metadata": {
  "kernelspec": {
   "display_name": "Python 3",
   "language": "python",
   "name": "python3"
  },
  "language_info": {
   "codemirror_mode": {
    "name": "ipython",
    "version": 2
   },
   "file_extension": ".py",
   "mimetype": "text/x-python",
   "name": "python",
   "nbconvert_exporter": "python",
   "pygments_lexer": "ipython2",
   "version": "2.7.6"
  }
 },
 "nbformat": 4,
 "nbformat_minor": 5
}
